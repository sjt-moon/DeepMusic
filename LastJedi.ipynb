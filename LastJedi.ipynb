{
 "cells": [
  {
   "cell_type": "code",
   "execution_count": 1,
   "metadata": {
    "collapsed": true
   },
   "outputs": [],
   "source": [
    "import torch\n",
    "import torch.autograd as autograd\n",
    "import torch.nn as nn\n",
    "import torch.nn.functional as F\n",
    "import torch.optim as optim\n",
    "import os.path\n",
    "\n",
    "import numpy as np\n",
    "from matplotlib import pyplot as plt"
   ]
  },
  {
   "cell_type": "markdown",
   "metadata": {
    "collapsed": true
   },
   "source": [
    "My trial"
   ]
  },
  {
   "cell_type": "code",
   "execution_count": 5,
   "metadata": {},
   "outputs": [],
   "source": [
    "import importlib\n",
    "#import models"
   ]
  },
  {
   "cell_type": "code",
   "execution_count": 11,
   "metadata": {},
   "outputs": [],
   "source": [
    "import utils\n",
    "import models\n",
    "#importlib.reload(utils)"
   ]
  },
  {
   "cell_type": "code",
   "execution_count": 91,
   "metadata": {},
   "outputs": [
    {
     "data": {
      "text/plain": [
       "<module 'utils' from 'D:\\\\Resource\\\\Courses\\\\UCSD\\\\2nd_Quarter\\\\253\\\\pa4\\\\DeepMusic\\\\utils.py'>"
      ]
     },
     "execution_count": 91,
     "metadata": {},
     "output_type": "execute_result"
    }
   ],
   "source": [
    "importlib.reload(utils)"
   ]
  },
  {
   "cell_type": "code",
   "execution_count": 81,
   "metadata": {
    "collapsed": true
   },
   "outputs": [],
   "source": [
    "data = utils.get_data()\n",
    "char2idx_dict, idx2char_dict = utils.get_dicts(data)"
   ]
  },
  {
   "cell_type": "code",
   "execution_count": 103,
   "metadata": {
    "collapsed": true
   },
   "outputs": [],
   "source": [
    "lstm = models.Music(voc_size=len(char2idx_dict), hidden_size=100, num_layers=1)"
   ]
  },
  {
   "cell_type": "code",
   "execution_count": 105,
   "metadata": {},
   "outputs": [],
   "source": [
    "coach = utils.Trainer(lstm, char2idx_dict, idx2char_dict)"
   ]
  },
  {
   "cell_type": "code",
   "execution_count": 119,
   "metadata": {},
   "outputs": [
    {
     "name": "stdout",
     "output_type": "stream",
     "text": [
      "epoch 500, loss 1.717\n",
      "epoch 1000, loss 2.117\n",
      "epoch 1500, loss 1.836\n",
      "epoch 2000, loss 0.871\n",
      "epoch 2500, loss 1.566\n",
      "epoch 3000, loss 1.830\n"
     ]
    }
   ],
   "source": [
    "loss = coach.fit(data, max_iter=3000, log_freq=500)"
   ]
  },
  {
   "cell_type": "code",
   "execution_count": 120,
   "metadata": {},
   "outputs": [
    {
     "data": {
      "image/png": "[encoded data removed]",
      "text/plain": [
       "<matplotlib.figure.Figure at 0x1a0828e6eb8>"
      ]
     },
     "metadata": {},
     "output_type": "display_data"
    }
   ],
   "source": [
    "plt.plot([i for i in range(len(loss))], loss)\n",
    "plt.xlabel('# of epochs')\n",
    "plt.ylabel('loss')\n",
    "#plt.legend()\n",
    "plt.show()"
   ]
  },
  {
   "cell_type": "code",
   "execution_count": 123,
   "metadata": {
    "scrolled": true
   },
   "outputs": [
    {
     "name": "stdout",
     "output_type": "stream",
     "text": [
      "<start>\n",
      "\n",
      "X:49\n",
      "T:Cornpipe-56\n",
      "M:6/8\n",
      "K:G\n",
      "B2 dB cA|BG G2|GBd e2f|g2 e2|\n",
      "f2f2 e2f2|\n",
      "f2ed cBAG|BAGA B2cB|c2d2 A2B2|d2e2 d4|\n",
      "d2c2B2|A4G2 | G4 | G4G3 | G3 A2F2 | B2 A2 | B>cd>e | B2e2 | e2 dc>B c>d B>c d2 | e2d>e>d |\n"
     ]
    }
   ],
   "source": [
    "tune = \"<start>\\n\" + coach.inference(size=200, temp=.6)\n",
    "print(tune)"
   ]
  },
  {
   "cell_type": "code",
   "execution_count": null,
   "metadata": {
    "collapsed": true
   },
   "outputs": [],
   "source": []
  }
 ],
 "metadata": {
  "kernelspec": {
   "display_name": "Python 3",
   "language": "python",
   "name": "python3"
  },
  "language_info": {
   "codemirror_mode": {
    "name": "ipython",
    "version": 3
   },
   "file_extension": ".py",
   "mimetype": "text/x-python",
   "name": "python",
   "nbconvert_exporter": "python",
   "pygments_lexer": "ipython3",
   "version": "3.6.1"
  }
 },
 "nbformat": 4,
 "nbformat_minor": 2
}
