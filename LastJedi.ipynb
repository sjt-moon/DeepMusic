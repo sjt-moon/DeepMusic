{
 "cells": [
  {
   "cell_type": "code",
   "execution_count": 34,
   "metadata": {
    "collapsed": true
   },
   "outputs": [],
   "source": [
    "import torch\n",
    "import torch.autograd as autograd\n",
    "import torch.nn as nn\n",
    "import torch.nn.functional as F\n",
    "import torch.optim as optim\n",
    "import os.path\n",
    "\n",
    "import numpy as np\n",
    "from matplotlib import pyplot as plt"
   ]
  },
  {
   "cell_type": "markdown",
   "metadata": {
    "collapsed": true
   },
   "source": [
    "My trial"
   ]
  },
  {
   "cell_type": "code",
   "execution_count": 35,
   "metadata": {
    "collapsed": true
   },
   "outputs": [],
   "source": [
    "import importlib\n",
    "#import models"
   ]
  },
  {
   "cell_type": "code",
   "execution_count": 36,
   "metadata": {
    "collapsed": true
   },
   "outputs": [],
   "source": [
    "import utils\n",
    "import models\n",
    "#importlib.reload(utils)"
   ]
  },
  {
   "cell_type": "code",
   "execution_count": 37,
   "metadata": {},
   "outputs": [
    {
     "data": {
      "text/plain": [
       "<module 'utils' from '/Users/zhanyuan/Documents/Python/CSE253/DeepMusic-Yu/utils.py'>"
      ]
     },
     "execution_count": 37,
     "metadata": {},
     "output_type": "execute_result"
    }
   ],
   "source": [
    "importlib.reload(utils)"
   ]
  },
  {
   "cell_type": "code",
   "execution_count": 38,
   "metadata": {},
   "outputs": [
    {
     "data": {
      "text/plain": [
       "<module 'models' from '/Users/zhanyuan/Documents/Python/CSE253/DeepMusic-Yu/models.py'>"
      ]
     },
     "execution_count": 38,
     "metadata": {},
     "output_type": "execute_result"
    }
   ],
   "source": [
    "importlib.reload(models)"
   ]
  },
  {
   "cell_type": "code",
   "execution_count": 39,
   "metadata": {},
   "outputs": [],
   "source": [
    "data = utils.get_data()\n",
    "train_data, valid_data = utils.split_data(data)\n",
    "char2idx_dict, idx2char_dict = utils.get_dicts(train_data)"
   ]
  },
  {
   "cell_type": "code",
   "execution_count": 40,
   "metadata": {},
   "outputs": [],
   "source": [
    "lstm = models.Music(voc_size=len(char2idx_dict), hidden_size=100, num_layers=2, drop_out = 0.2,  use_gpu = False)\n",
    "coach = utils.Trainer(lstm, char2idx_dict, idx2char_dict)"
   ]
  },
  {
   "cell_type": "code",
   "execution_count": null,
   "metadata": {
    "scrolled": false
   },
   "outputs": [
    {
     "name": "stdout",
     "output_type": "stream",
     "text": [
      "epoch 500, loss 2.107\n",
      "epoch 1000, loss 2.001\n",
      "epoch 1500, loss 1.778\n",
      "epoch 2000, loss 2.750\n",
      "epoch 2500, loss 3.156\n",
      "epoch 3000, loss 2.515\n",
      "epoch 3500, loss 2.533\n",
      "epoch 4000, loss 1.697\n",
      "epoch 4500, loss 2.185\n",
      "epoch 5000, loss 1.678\n",
      "epoch 5500, loss 1.867\n",
      "epoch 6000, loss 1.917\n",
      "epoch 6500, loss 2.402\n",
      "epoch 7000, loss 1.828\n",
      "epoch 7500, loss 3.123\n",
      "epoch 8000, loss 2.188\n",
      "epoch 8500, loss 3.391\n",
      "epoch 9000, loss 0.380\n",
      "epoch 9500, loss 0.361\n",
      "epoch 10000, loss 2.235\n",
      "epoch 10500, loss 1.894\n",
      "epoch 11000, loss 0.532\n",
      "epoch 11500, loss 2.963\n",
      "epoch 12000, loss 1.771\n",
      "epoch 12500, loss 2.264\n",
      "epoch 13000, loss 2.119\n",
      "epoch 13500, loss 1.356\n",
      "epoch 14000, loss 0.355\n",
      "epoch 14500, loss 1.711\n",
      "epoch 15000, loss 1.793\n",
      "epoch 15500, loss 1.226\n",
      "epoch 16000, loss 1.580\n",
      "epoch 16500, loss 1.630\n",
      "epoch 17000, loss 1.630\n",
      "epoch 17500, loss 2.982\n",
      "epoch 18000, loss 1.580\n",
      "epoch 18500, loss 1.544\n",
      "epoch 19000, loss 2.223\n",
      "epoch 19500, loss 1.747\n",
      "epoch 20000, loss 1.010\n",
      "epoch 20500, loss 2.244\n",
      "epoch 21000, loss 1.587\n",
      "epoch 21500, loss 1.538\n",
      "epoch 22000, loss 1.627\n",
      "epoch 22500, loss 1.644\n",
      "epoch 23000, loss 1.559\n"
     ]
    }
   ],
   "source": [
    "train_losses, valid_losses, valid_accuracies = coach.fit(train_data, valid_data, max_iter=100000, log_freq=500)"
   ]
  },
  {
   "cell_type": "code",
   "execution_count": null,
   "metadata": {},
   "outputs": [],
   "source": [
    "t = [i for i in range(len(train_losses))]\n",
    "plt.plot(t, train_losses, label='train loss')\n",
    "plt.plot(t, valid_losses, label='valid loss')\n",
    "plt.plot(t, valid_accuracies, label='valid accu')\n",
    "plt.xlabel('# of epochs')\n",
    "plt.ylabel('loss/accu')\n",
    "plt.legend()\n",
    "plt.show()"
   ]
  },
  {
   "cell_type": "code",
   "execution_count": 33,
   "metadata": {},
   "outputs": [],
   "source": [
    "torch.save(lstm.state_dict(), 'lstm-2-100-0.1.pkl')"
   ]
  },
  {
   "cell_type": "code",
   "execution_count": 32,
   "metadata": {
    "scrolled": true
   },
   "outputs": [
    {
     "name": "stdout",
     "output_type": "stream",
     "text": [
      "<start>\n",
      "\n",
      "X:19\n",
      "T:Up Scottische\n",
      "R:jig\n",
      "D:Also in A\n",
      "Z:id:hn-carolan-2\n",
      "M:2/4\n",
      "L:1/8\n",
      "K:Gmaj\n",
      "A3|BAG ABc|ddG d2B|A2A cAG|ABc ABc|def gfe|fdd efg|afd cAG|ABc def|gec d2e|fdB A2G|Add d2d|~d3 dcB|AGE A2d:|\n",
      "|:efg afe|faf efg|afd cAG|ABc dBG|A2G A2F:|2 AGF G2:|\n",
      "<end>\n"
     ]
    }
   ],
   "source": [
    "tune = \"<start>\\n\" + coach.inference(temp=.6)\n",
    "print(tune)"
   ]
  },
  {
   "cell_type": "code",
   "execution_count": null,
   "metadata": {},
   "outputs": [],
   "source": []
  },
  {
   "cell_type": "code",
   "execution_count": 49,
   "metadata": {},
   "outputs": [
    {
     "data": {
      "text/plain": [
       "25"
      ]
     },
     "execution_count": 49,
     "metadata": {},
     "output_type": "execute_result"
    }
   ],
   "source": [
    "len(i)"
   ]
  },
  {
   "cell_type": "code",
   "execution_count": null,
   "metadata": {
    "collapsed": true
   },
   "outputs": [],
   "source": []
  }
 ],
 "metadata": {
  "kernelspec": {
   "display_name": "Python 3",
   "language": "python",
   "name": "python3"
  },
  "language_info": {
   "codemirror_mode": {
    "name": "ipython",
    "version": 3
   },
   "file_extension": ".py",
   "mimetype": "text/x-python",
   "name": "python",
   "nbconvert_exporter": "python",
   "pygments_lexer": "ipython3",
   "version": "3.6.3"
  }
 },
 "nbformat": 4,
 "nbformat_minor": 2
}
