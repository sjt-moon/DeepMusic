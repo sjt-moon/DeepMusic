{
 "cells": [
  {
   "cell_type": "code",
   "execution_count": 117,
   "metadata": {
    "collapsed": true
   },
   "outputs": [],
   "source": [
    "import torch\n",
    "import torch.autograd as autograd\n",
    "import torch.nn as nn\n",
    "import torch.nn.functional as F\n",
    "import torch.optim as optim\n",
    "import os.path\n",
    "\n",
    "import numpy as np\n",
    "from matplotlib import pyplot as plt"
   ]
  },
  {
   "cell_type": "markdown",
   "metadata": {
    "collapsed": true
   },
   "source": [
    "My trial"
   ]
  },
  {
   "cell_type": "code",
   "execution_count": 118,
   "metadata": {
    "collapsed": true
   },
   "outputs": [],
   "source": [
    "import importlib\n",
    "#import models"
   ]
  },
  {
   "cell_type": "code",
   "execution_count": 119,
   "metadata": {
    "collapsed": true
   },
   "outputs": [],
   "source": [
    "import utils\n",
    "import models\n",
    "#importlib.reload(utils)"
   ]
  },
  {
   "cell_type": "code",
   "execution_count": 130,
   "metadata": {},
   "outputs": [
    {
     "data": {
      "text/plain": [
       "<module 'utils' from '/Users/zhanyuan/Documents/Python/CSE253/DeepMusic-Yu/utils.py'>"
      ]
     },
     "execution_count": 130,
     "metadata": {},
     "output_type": "execute_result"
    }
   ],
   "source": [
    "importlib.reload(utils)"
   ]
  },
  {
   "cell_type": "code",
   "execution_count": 132,
   "metadata": {},
   "outputs": [
    {
     "data": {
      "text/plain": [
       "<module 'models' from '/Users/zhanyuan/Documents/Python/CSE253/DeepMusic-Yu/models.py'>"
      ]
     },
     "execution_count": 132,
     "metadata": {},
     "output_type": "execute_result"
    }
   ],
   "source": [
    "importlib.reload(models)"
   ]
  },
  {
   "cell_type": "code",
   "execution_count": 140,
   "metadata": {
    "collapsed": true
   },
   "outputs": [],
   "source": [
    "data = utils.get_data()\n",
    "char2idx_dict, idx2char_dict = utils.get_dicts(data)"
   ]
  },
  {
   "cell_type": "code",
   "execution_count": 141,
   "metadata": {},
   "outputs": [],
   "source": [
    "lstm = models.Music(voc_size=len(char2idx_dict), hidden_size=100, num_layers=2, drop_out = 0.1)"
   ]
  },
  {
   "cell_type": "code",
   "execution_count": 142,
   "metadata": {
    "collapsed": true
   },
   "outputs": [],
   "source": [
    "coach = utils.Trainer(lstm, char2idx_dict, idx2char_dict)"
   ]
  },
  {
   "cell_type": "code",
   "execution_count": 143,
   "metadata": {},
   "outputs": [
    {
     "name": "stdout",
     "output_type": "stream",
     "text": [
      "epoch 500, loss 2.379\n",
      "epoch 1000, loss 1.886\n",
      "epoch 1500, loss 2.650\n",
      "epoch 2000, loss 2.100\n",
      "epoch 2500, loss 2.127\n",
      "epoch 3000, loss 2.126\n",
      "epoch 3500, loss 1.354\n",
      "epoch 4000, loss 1.850\n",
      "epoch 4500, loss 2.211\n",
      "epoch 5000, loss 2.385\n",
      "epoch 5500, loss 2.766\n",
      "epoch 6000, loss 3.069\n",
      "epoch 6500, loss 1.563\n",
      "epoch 7000, loss 1.368\n",
      "epoch 7500, loss 1.928\n",
      "epoch 8000, loss 1.633\n",
      "epoch 8500, loss 1.730\n",
      "epoch 9000, loss 1.804\n",
      "epoch 9500, loss 1.143\n",
      "epoch 10000, loss 1.690\n",
      "epoch 10500, loss 1.564\n",
      "epoch 11000, loss 0.675\n",
      "epoch 11500, loss 1.592\n",
      "epoch 12000, loss 3.621\n",
      "epoch 12500, loss 1.598\n",
      "epoch 13000, loss 1.645\n",
      "epoch 13500, loss 1.988\n",
      "epoch 14000, loss 0.776\n",
      "epoch 14500, loss 2.049\n",
      "epoch 15000, loss 1.674\n",
      "epoch 15500, loss 2.970\n",
      "epoch 16000, loss 2.167\n",
      "epoch 16500, loss 1.916\n",
      "epoch 17000, loss 0.749\n",
      "epoch 17500, loss 2.049\n",
      "epoch 18000, loss 1.107\n",
      "epoch 18500, loss 1.358\n",
      "epoch 19000, loss 1.430\n",
      "epoch 19500, loss 1.655\n",
      "epoch 20000, loss 1.799\n",
      "epoch 20500, loss 1.742\n",
      "epoch 21000, loss 1.279\n",
      "epoch 21500, loss 2.474\n",
      "epoch 22000, loss 2.996\n",
      "epoch 22500, loss 2.011\n",
      "epoch 23000, loss 0.647\n",
      "epoch 23500, loss 1.999\n",
      "epoch 24000, loss 1.541\n",
      "epoch 24500, loss 2.345\n",
      "epoch 25000, loss 1.617\n",
      "epoch 25500, loss 0.704\n",
      "epoch 26000, loss 3.934\n",
      "epoch 26500, loss 3.214\n",
      "epoch 27000, loss 1.667\n",
      "epoch 27500, loss 1.603\n",
      "epoch 28000, loss 1.664\n",
      "epoch 28500, loss 1.634\n",
      "epoch 29000, loss 1.528\n",
      "epoch 29500, loss 1.703\n",
      "epoch 30000, loss 1.614\n",
      "epoch 30500, loss 1.499\n",
      "epoch 31000, loss 0.709\n",
      "epoch 31500, loss 2.617\n",
      "epoch 32000, loss 2.002\n",
      "epoch 32500, loss 1.616\n",
      "epoch 33000, loss 1.433\n",
      "epoch 33500, loss 2.710\n",
      "epoch 34000, loss 3.217\n",
      "epoch 34500, loss 1.259\n",
      "epoch 35000, loss 1.449\n",
      "epoch 35500, loss 1.542\n",
      "epoch 36000, loss 1.131\n",
      "epoch 36500, loss 1.004\n",
      "epoch 37000, loss 1.475\n",
      "epoch 37500, loss 0.793\n",
      "epoch 38000, loss 2.469\n",
      "epoch 38500, loss 1.856\n",
      "epoch 39000, loss 2.219\n",
      "epoch 39500, loss 1.207\n",
      "epoch 40000, loss 1.619\n",
      "epoch 40500, loss 1.333\n",
      "epoch 41000, loss 1.505\n",
      "epoch 41500, loss 0.924\n",
      "epoch 42000, loss 1.817\n",
      "epoch 42500, loss 2.413\n",
      "epoch 43000, loss 1.684\n",
      "epoch 43500, loss 1.943\n",
      "epoch 44000, loss 1.548\n",
      "epoch 44500, loss 1.766\n",
      "epoch 45000, loss 1.915\n",
      "epoch 45500, loss 1.452\n",
      "epoch 46000, loss 2.848\n",
      "epoch 46500, loss 2.208\n",
      "epoch 47000, loss 1.377\n",
      "epoch 47500, loss 1.805\n",
      "epoch 48000, loss 1.413\n",
      "epoch 48500, loss 1.012\n",
      "epoch 49000, loss 1.573\n",
      "epoch 49500, loss 1.457\n",
      "epoch 50000, loss 2.028\n",
      "epoch 50500, loss 2.154\n",
      "epoch 51000, loss 2.115\n",
      "epoch 51500, loss 1.315\n",
      "epoch 52000, loss 1.150\n",
      "epoch 52500, loss 2.271\n",
      "epoch 53000, loss 2.496\n",
      "epoch 53500, loss 0.738\n",
      "epoch 54000, loss 2.698\n",
      "epoch 54500, loss 2.082\n",
      "epoch 55000, loss 1.448\n",
      "epoch 55500, loss 2.117\n",
      "epoch 56000, loss 1.259\n",
      "epoch 56500, loss 1.444\n",
      "epoch 57000, loss 1.889\n",
      "epoch 57500, loss 0.870\n",
      "epoch 58000, loss 1.685\n",
      "epoch 58500, loss 1.957\n",
      "epoch 59000, loss 1.349\n",
      "epoch 59500, loss 1.234\n",
      "epoch 60000, loss 1.524\n",
      "epoch 60500, loss 1.233\n",
      "epoch 61000, loss 0.875\n",
      "epoch 61500, loss 0.871\n",
      "epoch 62000, loss 0.628\n",
      "epoch 62500, loss 1.851\n",
      "epoch 63000, loss 1.563\n",
      "epoch 63500, loss 1.771\n",
      "epoch 64000, loss 2.195\n",
      "epoch 64500, loss 2.071\n",
      "epoch 65000, loss 0.301\n",
      "epoch 65500, loss 1.431\n",
      "epoch 66000, loss 1.519\n",
      "epoch 66500, loss 2.048\n",
      "epoch 67000, loss 1.505\n",
      "epoch 67500, loss 1.917\n",
      "epoch 68000, loss 0.718\n",
      "epoch 68500, loss 1.554\n",
      "epoch 69000, loss 2.283\n",
      "epoch 69500, loss 1.441\n",
      "epoch 70000, loss 1.448\n",
      "epoch 70500, loss 0.979\n",
      "epoch 71000, loss 2.994\n",
      "epoch 71500, loss 1.515\n",
      "epoch 72000, loss 1.275\n",
      "epoch 72500, loss 1.606\n",
      "epoch 73000, loss 1.551\n",
      "epoch 73500, loss 0.356\n",
      "epoch 74000, loss 1.397\n",
      "epoch 74500, loss 1.361\n",
      "epoch 75000, loss 1.707\n",
      "epoch 75500, loss 1.412\n",
      "epoch 76000, loss 2.337\n",
      "epoch 76500, loss 1.495\n",
      "epoch 77000, loss 1.272\n",
      "epoch 77500, loss 1.587\n",
      "epoch 78000, loss 0.798\n",
      "epoch 78500, loss 1.947\n",
      "epoch 79000, loss 2.608\n",
      "epoch 79500, loss 1.650\n",
      "epoch 80000, loss 1.083\n",
      "epoch 80500, loss 1.894\n",
      "epoch 81000, loss 1.324\n",
      "epoch 81500, loss 0.290\n",
      "epoch 82000, loss 1.071\n",
      "epoch 82500, loss 1.687\n",
      "epoch 83000, loss 1.689\n",
      "epoch 83500, loss 1.432\n",
      "epoch 84000, loss 1.833\n",
      "epoch 84500, loss 1.314\n",
      "epoch 85000, loss 2.650\n",
      "epoch 85500, loss 1.408\n",
      "epoch 86000, loss 0.675\n",
      "epoch 86500, loss 1.712\n",
      "epoch 87000, loss 1.543\n",
      "epoch 87500, loss 1.403\n",
      "epoch 88000, loss 1.875\n",
      "epoch 88500, loss 0.709\n",
      "epoch 89000, loss 1.947\n",
      "epoch 89500, loss 1.788\n",
      "epoch 90000, loss 1.705\n",
      "epoch 90500, loss 2.064\n",
      "epoch 91000, loss 1.514\n",
      "epoch 91500, loss 2.178\n",
      "epoch 92000, loss 1.773\n",
      "epoch 92500, loss 1.353\n",
      "epoch 93000, loss 1.492\n",
      "epoch 93500, loss 1.341\n",
      "epoch 94000, loss 0.927\n",
      "epoch 94500, loss 1.874\n",
      "epoch 95000, loss 1.591\n",
      "epoch 95500, loss 0.429\n",
      "epoch 96000, loss 1.525\n",
      "epoch 96500, loss 1.218\n",
      "epoch 97000, loss 0.797\n",
      "epoch 97500, loss 1.403\n",
      "epoch 98000, loss 1.750\n",
      "epoch 98500, loss 2.586\n",
      "epoch 99000, loss 1.645\n",
      "epoch 99500, loss 1.153\n",
      "epoch 100000, loss 1.083\n"
     ]
    }
   ],
   "source": [
    "loss = coach.fit(data, max_iter=100000, log_freq=500)"
   ]
  },
  {
   "cell_type": "code",
   "execution_count": 144,
   "metadata": {},
   "outputs": [
    {
     "data": {
      "image/png": "[encoded data removed]",
      "text/plain": [
       "<matplotlib.figure.Figure at 0x1a1b842278>"
      ]
     },
     "metadata": {},
     "output_type": "display_data"
    }
   ],
   "source": [
    "plt.plot([i for i in range(len(loss))], loss)\n",
    "plt.xlabel('# of epochs')\n",
    "plt.ylabel('loss')\n",
    "#plt.legend()\n",
    "plt.show()"
   ]
  },
  {
   "cell_type": "code",
   "execution_count": 145,
   "metadata": {
    "scrolled": true
   },
   "outputs": [
    {
     "name": "stdout",
     "output_type": "stream",
     "text": [
      "<start>\n",
      "\n",
      "X:1\n",
      "T:Padry from Polka\n",
      "Z:id:hn-hornpipe-4\n",
      "M:C|\n",
      "K:Dmix\n",
      "F2GA Bcde|fddc d2cA|defe dBAG|FAGE G2:|\n",
      "|:ABcB AFDF|G2GA BAGA|BAGB A2fe|dfed cAGF|EFAB AGFA|(3ABA (3FAG ABcd:|\n",
      "|:ed (3Bcd efec|defd edef|g2ef g2 (3fed|edef gedc|BAGE GEDE|D2FG ABcd|edcA BAFA|\n",
      "BGBd AGFE|~A3B dBAG|F2EF GEFE|Gdfd edBd|efdc Bd~f2|edBd e2de|~g3a bage|\n",
      "fdef a2fa|~bagf efde|fedc d2:|\n",
      "|: aged edcB|AGFA BAGB:|\n",
      "|:gfge agec|afde fdcA|B2BG G2:|\n",
      "|:B2 (3BAG FGAB|cAGE AFAB|cAFA ADFA|AFAF E2:|\n",
      "|:BABd ~g3a|bgab afef|gfed BAFE|DEFA fdde|~f3d e2de|fedc BGG|AGG ABc|dAFE D2:|\n",
      "|:ee ed|ed ef|gf ed|g/f/e/f/ ge|fg/f/ ed|B2 g2|e/f/e/d/ ed|BA G2:|\n",
      "<end>\n"
     ]
    }
   ],
   "source": [
    "tune = \"<start>\\n\" + coach.inference(temp=.6)\n",
    "print(tune)"
   ]
  },
  {
   "cell_type": "code",
   "execution_count": null,
   "metadata": {
    "collapsed": true
   },
   "outputs": [],
   "source": []
  },
  {
   "cell_type": "code",
   "execution_count": null,
   "metadata": {
    "collapsed": true
   },
   "outputs": [],
   "source": []
  }
 ],
 "metadata": {
  "kernelspec": {
   "display_name": "Python 3",
   "language": "python",
   "name": "python3"
  },
  "language_info": {
   "codemirror_mode": {
    "name": "ipython",
    "version": 3
   },
   "file_extension": ".py",
   "mimetype": "text/x-python",
   "name": "python",
   "nbconvert_exporter": "python",
   "pygments_lexer": "ipython3",
   "version": "3.6.3"
  }
 },
 "nbformat": 4,
 "nbformat_minor": 2
}
