{
 "cells": [
  {
   "cell_type": "code",
   "execution_count": 1,
   "metadata": {
    "collapsed": true
   },
   "outputs": [],
   "source": [
    "import torch\n",
    "import torch.autograd as autograd\n",
    "import torch.nn as nn\n",
    "import torch.nn.functional as F\n",
    "import torch.optim as optim\n",
    "\n",
    "import numpy as np\n",
    "from matplotlib import pyplot as plt"
   ]
  },
  {
   "cell_type": "code",
   "execution_count": 2,
   "metadata": {},
   "outputs": [
    {
     "name": "stdout",
     "output_type": "stream",
     "text": [
      "501470\n",
      "Length of vocabulary =  93\n"
     ]
    }
   ],
   "source": [
    "data_str = (open(r\"../data/input.txt\")).read()\n",
    "print(len(data_str))\n",
    "data = [i for i in data_str]\n",
    "data_set = sorted(set(data_str))\n",
    "print(\"Length of vocabulary = \", len(data_set))\n",
    "char_2_idx = {ch: i for i, ch in enumerate(data_set)}\n",
    "idx_2_char = {i: ch for i, ch in enumerate(data_set)}"
   ]
  },
  {
   "cell_type": "code",
   "execution_count": 5,
   "metadata": {
    "collapsed": true
   },
   "outputs": [],
   "source": [
    "import os.path"
   ]
  },
  {
   "cell_type": "code",
   "execution_count": 3,
   "metadata": {},
   "outputs": [
    {
     "name": "stderr",
     "output_type": "stream",
     "text": [
      "Using TensorFlow backend.\n"
     ]
    }
   ],
   "source": [
    "from keras.utils.np_utils import to_categorical"
   ]
  },
  {
   "cell_type": "code",
   "execution_count": 4,
   "metadata": {
    "collapsed": true
   },
   "outputs": [],
   "source": [
    "data = np.array([char_2_idx[i] for i in data_str])\n",
    "train_data = data[0:int(0.8 * len(data))]\n",
    "y_train = data[1:int(0.8 * len(data)) + 1]"
   ]
  },
  {
   "cell_type": "code",
   "execution_count": 6,
   "metadata": {},
   "outputs": [
    {
     "data": {
      "text/plain": [
       "(401176,)"
      ]
     },
     "execution_count": 6,
     "metadata": {},
     "output_type": "execute_result"
    }
   ],
   "source": [
    "train_data.shape"
   ]
  },
  {
   "cell_type": "code",
   "execution_count": 7,
   "metadata": {
    "collapsed": true
   },
   "outputs": [],
   "source": [
    "train_data = to_categorical(train_data, len(data_set))\n",
    "val_data = data[int(0.8 * len(data)):-1]\n",
    "y_val = data[int(0.8 * len(data)) + 1:]"
   ]
  },
  {
   "cell_type": "code",
   "execution_count": 8,
   "metadata": {
    "collapsed": true
   },
   "outputs": [],
   "source": [
    "from sklearn.preprocessing import OneHotEncoder"
   ]
  },
  {
   "cell_type": "code",
   "execution_count": 12,
   "metadata": {},
   "outputs": [
    {
     "data": {
      "text/plain": [
       "array([26, 80, 67, ..., 67, 76, 66])"
      ]
     },
     "execution_count": 12,
     "metadata": {},
     "output_type": "execute_result"
    }
   ],
   "source": [
    "val_data"
   ]
  },
  {
   "cell_type": "code",
   "execution_count": 13,
   "metadata": {
    "collapsed": true
   },
   "outputs": [],
   "source": [
    "batch_size = 25\n",
    "length_to_keep = int(len(train_data) / batch_size) * len(data_set)*batch_size\n",
    "train_data = train_data[0:int(length_to_keep / len(data_set)), :].copy()\n",
    "train_data = np.reshape(train_data, (int(len(train_data) / batch_size), batch_size, len(data_set)))"
   ]
  },
  {
   "cell_type": "code",
   "execution_count": 15,
   "metadata": {},
   "outputs": [
    {
     "data": {
      "text/plain": [
       "(16047, 25, 93)"
      ]
     },
     "execution_count": 15,
     "metadata": {},
     "output_type": "execute_result"
    }
   ],
   "source": [
    "train_data.shape"
   ]
  },
  {
   "cell_type": "code",
   "execution_count": 34,
   "metadata": {
    "collapsed": true
   },
   "outputs": [],
   "source": [
    "X = train_data[:, :-1, :]\n",
    "y = train_data[:, 1:, :]\n",
    "X_val = to_categorical(val_data, len(data_set))\n",
    "length_to_keep = int(len(X_val) / batch_size) * len(data_set)* batch_size\n",
    "X_val = X_val[0:int(length_to_keep / len(data_set)), :].copy()\n",
    "X_val = np.reshape(X_val, (int(len(X_val) / batch_size), batch_size, len(data_set)))\n",
    "y_val = X_val[:, 1:, :]\n",
    "X_val = X_val[:, :-1, :]"
   ]
  },
  {
   "cell_type": "code",
   "execution_count": 23,
   "metadata": {
    "collapsed": true
   },
   "outputs": [],
   "source": [
    "import importlib"
   ]
  },
  {
   "cell_type": "markdown",
   "metadata": {},
   "source": [
    "SPLIT LINE"
   ]
  },
  {
   "cell_type": "code",
   "execution_count": 53,
   "metadata": {},
   "outputs": [
    {
     "data": {
      "text/plain": [
       "<module 'utils' from 'D:\\\\Resource\\\\Courses\\\\UCSD\\\\2nd_Quarter\\\\253\\\\pa4\\\\DeepMusic\\\\utils.py'>"
      ]
     },
     "execution_count": 53,
     "metadata": {},
     "output_type": "execute_result"
    }
   ],
   "source": [
    "#import utils\n",
    "importlib.reload(utils)"
   ]
  },
  {
   "cell_type": "code",
   "execution_count": 54,
   "metadata": {
    "collapsed": true
   },
   "outputs": [],
   "source": [
    "xtr, ytr, xva, yva = utils.get_dateset()"
   ]
  },
  {
   "cell_type": "code",
   "execution_count": 56,
   "metadata": {},
   "outputs": [
    {
     "data": {
      "text/plain": [
       "(4011, 24, 93)"
      ]
     },
     "execution_count": 56,
     "metadata": {},
     "output_type": "execute_result"
    }
   ],
   "source": [
    "yva.shape"
   ]
  },
  {
   "cell_type": "code",
   "execution_count": 60,
   "metadata": {},
   "outputs": [
    {
     "data": {
      "text/plain": [
       "array([[[ True,  True,  True, ...,  True,  True,  True],\n",
       "        [ True,  True,  True, ...,  True,  True,  True],\n",
       "        [ True,  True,  True, ...,  True,  True,  True],\n",
       "        ..., \n",
       "        [ True,  True,  True, ...,  True,  True,  True],\n",
       "        [ True,  True,  True, ...,  True,  True,  True],\n",
       "        [ True,  True,  True, ...,  True,  True,  True]],\n",
       "\n",
       "       [[ True,  True,  True, ...,  True,  True,  True],\n",
       "        [ True,  True,  True, ...,  True,  True,  True],\n",
       "        [ True,  True,  True, ...,  True,  True,  True],\n",
       "        ..., \n",
       "        [ True,  True,  True, ...,  True,  True,  True],\n",
       "        [ True,  True,  True, ...,  True,  True,  True],\n",
       "        [ True,  True,  True, ...,  True,  True,  True]],\n",
       "\n",
       "       [[ True,  True,  True, ...,  True,  True,  True],\n",
       "        [ True,  True,  True, ...,  True,  True,  True],\n",
       "        [ True,  True,  True, ...,  True,  True,  True],\n",
       "        ..., \n",
       "        [ True,  True,  True, ...,  True,  True,  True],\n",
       "        [ True,  True,  True, ...,  True,  True,  True],\n",
       "        [ True,  True,  True, ...,  True,  True,  True]],\n",
       "\n",
       "       ..., \n",
       "       [[ True,  True,  True, ...,  True,  True,  True],\n",
       "        [ True,  True,  True, ...,  True,  True,  True],\n",
       "        [ True,  True,  True, ...,  True,  True,  True],\n",
       "        ..., \n",
       "        [ True,  True,  True, ...,  True,  True,  True],\n",
       "        [ True,  True,  True, ...,  True,  True,  True],\n",
       "        [ True,  True,  True, ...,  True,  True,  True]],\n",
       "\n",
       "       [[ True,  True,  True, ...,  True,  True,  True],\n",
       "        [ True,  True,  True, ...,  True,  True,  True],\n",
       "        [ True,  True,  True, ...,  True,  True,  True],\n",
       "        ..., \n",
       "        [ True,  True,  True, ...,  True,  True,  True],\n",
       "        [ True,  True,  True, ...,  True,  True,  True],\n",
       "        [ True,  True,  True, ...,  True,  True,  True]],\n",
       "\n",
       "       [[ True,  True,  True, ...,  True,  True,  True],\n",
       "        [ True,  True,  True, ...,  True,  True,  True],\n",
       "        [ True,  True,  True, ...,  True,  True,  True],\n",
       "        ..., \n",
       "        [ True,  True,  True, ...,  True,  True,  True],\n",
       "        [ True,  True,  True, ...,  True,  True,  True],\n",
       "        [ True,  True,  True, ...,  True,  True,  True]]], dtype=bool)"
      ]
     },
     "execution_count": 60,
     "metadata": {},
     "output_type": "execute_result"
    }
   ],
   "source": [
    "y_val==yva"
   ]
  },
  {
   "cell_type": "code",
   "execution_count": 46,
   "metadata": {},
   "outputs": [
    {
     "data": {
      "text/plain": [
       "(16047, 24, 93)"
      ]
     },
     "execution_count": 46,
     "metadata": {},
     "output_type": "execute_result"
    }
   ],
   "source": [
    "xtr.shape"
   ]
  },
  {
   "cell_type": "code",
   "execution_count": null,
   "metadata": {
    "collapsed": true
   },
   "outputs": [],
   "source": []
  },
  {
   "cell_type": "code",
   "execution_count": 28,
   "metadata": {
    "collapsed": true
   },
   "outputs": [],
   "source": [
    "enc = OneHotEncoder()"
   ]
  },
  {
   "cell_type": "code",
   "execution_count": 29,
   "metadata": {
    "collapsed": true
   },
   "outputs": [],
   "source": [
    "t = enc.fit_transform(np.reshape(train_data, (-1,1)))"
   ]
  },
  {
   "cell_type": "code",
   "execution_count": 26,
   "metadata": {
    "collapsed": true
   },
   "outputs": [],
   "source": [
    "t = enc.transform(np.reshape(train_data, (-1,1))).toarray()"
   ]
  },
  {
   "cell_type": "code",
   "execution_count": 30,
   "metadata": {},
   "outputs": [
    {
     "data": {
      "text/plain": [
       "matrix([[ True,  True,  True, ...,  True,  True,  True],\n",
       "        [ True,  True,  True, ...,  True,  True,  True],\n",
       "        [ True,  True,  True, ...,  True,  True,  True],\n",
       "        ..., \n",
       "        [ True,  True,  True, ...,  True,  True,  True],\n",
       "        [ True,  True,  True, ...,  True,  True,  True],\n",
       "        [ True,  True,  True, ...,  True,  True,  True]], dtype=bool)"
      ]
     },
     "execution_count": 30,
     "metadata": {},
     "output_type": "execute_result"
    }
   ],
   "source": [
    "train_data_k == t"
   ]
  },
  {
   "cell_type": "code",
   "execution_count": 31,
   "metadata": {},
   "outputs": [
    {
     "data": {
      "text/plain": [
       "array([[ 0.,  0.,  0., ...,  0.,  0.,  0.],\n",
       "       [ 0.,  0.,  0., ...,  0.,  0.,  0.],\n",
       "       [ 0.,  0.,  0., ...,  0.,  0.,  0.],\n",
       "       ..., \n",
       "       [ 0.,  0.,  0., ...,  0.,  0.,  0.],\n",
       "       [ 0.,  1.,  0., ...,  0.,  0.,  0.],\n",
       "       [ 0.,  0.,  0., ...,  0.,  0.,  0.]])"
      ]
     },
     "execution_count": 31,
     "metadata": {},
     "output_type": "execute_result"
    }
   ],
   "source": [
    "train_data_k"
   ]
  },
  {
   "cell_type": "markdown",
   "metadata": {
    "collapsed": true
   },
   "source": [
    "What if I tried on Keras?"
   ]
  },
  {
   "cell_type": "code",
   "execution_count": 62,
   "metadata": {
    "collapsed": true
   },
   "outputs": [],
   "source": [
    "from keras.utils.np_utils import to_categorical\n",
    "from keras.models import Sequential\n",
    "from keras.layers import Dense, Activation, SimpleRNN, LSTM\n",
    "from keras.callbacks import History\n",
    "from keras import backend as K"
   ]
  },
  {
   "cell_type": "code",
   "execution_count": 64,
   "metadata": {},
   "outputs": [
    {
     "name": "stdout",
     "output_type": "stream",
     "text": [
      "_________________________________________________________________\n",
      "Layer (type)                 Output Shape              Param #   \n",
      "=================================================================\n",
      "lstm_2 (LSTM)                (None, 100)               77600     \n",
      "_________________________________________________________________\n",
      "dense_2 (Dense)              (None, 93)                9393      \n",
      "_________________________________________________________________\n",
      "activation_2 (Activation)    (None, 93)                0         \n",
      "=================================================================\n",
      "Total params: 86,993\n",
      "Trainable params: 86,993\n",
      "Non-trainable params: 0\n",
      "_________________________________________________________________\n",
      "Training\n"
     ]
    },
    {
     "name": "stderr",
     "output_type": "stream",
     "text": [
      "D:\\SOFTWARE\\Conda\\lib\\site-packages\\keras\\models.py:942: UserWarning: The `nb_epoch` argument in `fit` has been renamed `epochs`.\n",
      "  warnings.warn('The `nb_epoch` argument in `fit` '\n"
     ]
    },
    {
     "name": "stdout",
     "output_type": "stream",
     "text": [
      "Train on 16047 samples, validate on 4011 samples\n",
      "Epoch 1/100\n",
      "16047/16047 [==============================] - 20s 1ms/step - loss: 3.7263 - acc: 0.1335 - val_loss: 3.4945 - val_acc: 0.1274\n",
      "Epoch 2/100\n",
      "16047/16047 [==============================] - 14s 893us/step - loss: 3.3702 - acc: 0.1474 - val_loss: 3.2814 - val_acc: 0.1391\n",
      "Epoch 3/100\n",
      "16047/16047 [==============================] - 17s 1ms/step - loss: 3.2068 - acc: 0.1689 - val_loss: 3.1275 - val_acc: 0.1608\n",
      "Epoch 4/100\n",
      "16047/16047 [==============================] - 16s 968us/step - loss: 3.0575 - acc: 0.2003 - val_loss: 2.9718 - val_acc: 0.1852\n",
      "Epoch 5/100\n",
      "16047/16047 [==============================] - 16s 981us/step - loss: 2.9076 - acc: 0.2259 - val_loss: 2.8726 - val_acc: 0.1985\n",
      "Epoch 6/100\n",
      "16047/16047 [==============================] - 16s 972us/step - loss: 2.7802 - acc: 0.2541 - val_loss: 2.7680 - val_acc: 0.2319\n",
      "Epoch 7/100\n",
      "16047/16047 [==============================] - 16s 976us/step - loss: 2.6687 - acc: 0.2813 - val_loss: 2.7038 - val_acc: 0.2508\n",
      "Epoch 8/100\n",
      "16047/16047 [==============================] - 16s 998us/step - loss: 2.5635 - acc: 0.3097 - val_loss: 2.6273 - val_acc: 0.2625\n",
      "Epoch 9/100\n",
      "16047/16047 [==============================] - 15s 932us/step - loss: 2.4667 - acc: 0.3384 - val_loss: 2.5420 - val_acc: 0.2907\n",
      "Epoch 10/100\n",
      "16047/16047 [==============================] - 15s 945us/step - loss: 2.3783 - acc: 0.3599 - val_loss: 2.5130 - val_acc: 0.2914\n",
      "Epoch 11/100\n",
      "16047/16047 [==============================] - 15s 940us/step - loss: 2.3013 - acc: 0.3778 - val_loss: 2.4525 - val_acc: 0.3106\n",
      "Epoch 12/100\n",
      "16047/16047 [==============================] - 15s 961us/step - loss: 2.2369 - acc: 0.3943 - val_loss: 2.4092 - val_acc: 0.3234\n",
      "Epoch 13/100\n",
      "16047/16047 [==============================] - 16s 1ms/step - loss: 2.1697 - acc: 0.4120 - val_loss: 2.3635 - val_acc: 0.3348\n",
      "Epoch 14/100\n",
      "16047/16047 [==============================] - 16s 989us/step - loss: 2.1114 - acc: 0.4249 - val_loss: 2.3455 - val_acc: 0.3363\n",
      "Epoch 15/100\n",
      "16047/16047 [==============================] - 16s 1ms/step - loss: 2.0552 - acc: 0.4408 - val_loss: 2.3508 - val_acc: 0.3351\n",
      "Epoch 16/100\n",
      "16047/16047 [==============================] - 16s 998us/step - loss: 2.0052 - acc: 0.4543 - val_loss: 2.2932 - val_acc: 0.3453\n",
      "Epoch 17/100\n",
      "16047/16047 [==============================] - 17s 1ms/step - loss: 1.9599 - acc: 0.4618 - val_loss: 2.2883 - val_acc: 0.3451\n",
      "Epoch 18/100\n",
      "16047/16047 [==============================] - 16s 990us/step - loss: 1.9143 - acc: 0.4742 - val_loss: 2.2775 - val_acc: 0.3518\n",
      "Epoch 19/100\n",
      "16047/16047 [==============================] - 15s 950us/step - loss: 1.8683 - acc: 0.4843 - val_loss: 2.2582 - val_acc: 0.3563\n",
      "Epoch 20/100\n",
      "16047/16047 [==============================] - 15s 950us/step - loss: 1.8304 - acc: 0.4942 - val_loss: 2.2481 - val_acc: 0.3563\n",
      "Epoch 21/100\n",
      "16047/16047 [==============================] - 15s 941us/step - loss: 1.7921 - acc: 0.5002 - val_loss: 2.2523 - val_acc: 0.3625\n",
      "Epoch 22/100\n",
      "16047/16047 [==============================] - 15s 945us/step - loss: 1.7541 - acc: 0.5090 - val_loss: 2.2155 - val_acc: 0.3682\n",
      "Epoch 23/100\n",
      "16047/16047 [==============================] - 15s 945us/step - loss: 1.7156 - acc: 0.5175 - val_loss: 2.2190 - val_acc: 0.3647\n",
      "Epoch 24/100\n",
      "16047/16047 [==============================] - 15s 944us/step - loss: 1.6850 - acc: 0.5238 - val_loss: 2.2167 - val_acc: 0.3715\n",
      "Epoch 25/100\n",
      "16047/16047 [==============================] - 15s 944us/step - loss: 1.6474 - acc: 0.5336 - val_loss: 2.2141 - val_acc: 0.3645\n",
      "Epoch 26/100\n",
      "16047/16047 [==============================] - 15s 945us/step - loss: 1.6143 - acc: 0.5423 - val_loss: 2.1958 - val_acc: 0.3760\n",
      "Epoch 27/100\n",
      "16047/16047 [==============================] - 15s 940us/step - loss: 1.5852 - acc: 0.5484 - val_loss: 2.2162 - val_acc: 0.3677\n",
      "Epoch 28/100\n",
      "16047/16047 [==============================] - 15s 946us/step - loss: 1.5501 - acc: 0.5584 - val_loss: 2.2139 - val_acc: 0.3727\n",
      "Epoch 29/100\n",
      "16047/16047 [==============================] - 15s 931us/step - loss: 1.5204 - acc: 0.5669 - val_loss: 2.1898 - val_acc: 0.3805\n",
      "Epoch 30/100\n",
      "16047/16047 [==============================] - 15s 932us/step - loss: 1.4839 - acc: 0.5741 - val_loss: 2.1958 - val_acc: 0.3675\n",
      "Epoch 31/100\n",
      "16047/16047 [==============================] - 15s 935us/step - loss: 1.4544 - acc: 0.5851 - val_loss: 2.2188 - val_acc: 0.3680\n",
      "Epoch 32/100\n",
      "16047/16047 [==============================] - 15s 933us/step - loss: 1.4249 - acc: 0.5841 - val_loss: 2.2124 - val_acc: 0.3692\n",
      "Epoch 33/100\n",
      "16047/16047 [==============================] - 15s 932us/step - loss: 1.3994 - acc: 0.5944 - val_loss: 2.2636 - val_acc: 0.3700\n",
      "Epoch 34/100\n",
      "16047/16047 [==============================] - 15s 933us/step - loss: 1.3712 - acc: 0.6004 - val_loss: 2.2152 - val_acc: 0.3710\n",
      "Epoch 35/100\n",
      "16047/16047 [==============================] - 15s 931us/step - loss: 1.3404 - acc: 0.6084 - val_loss: 2.2432 - val_acc: 0.3650\n",
      "Epoch 36/100\n",
      "16047/16047 [==============================] - 15s 928us/step - loss: 1.3117 - acc: 0.6187 - val_loss: 2.2474 - val_acc: 0.3772\n",
      "Epoch 37/100\n",
      "16047/16047 [==============================] - 15s 931us/step - loss: 1.2855 - acc: 0.6257 - val_loss: 2.2728 - val_acc: 0.3655\n",
      "Epoch 38/100\n",
      "16047/16047 [==============================] - 15s 932us/step - loss: 1.2588 - acc: 0.6353 - val_loss: 2.2771 - val_acc: 0.3652\n",
      "Epoch 39/100\n",
      "16047/16047 [==============================] - 15s 932us/step - loss: 1.2317 - acc: 0.6381 - val_loss: 2.2887 - val_acc: 0.3747\n",
      "Epoch 40/100\n",
      "16047/16047 [==============================] - 15s 934us/step - loss: 1.2040 - acc: 0.6495 - val_loss: 2.2866 - val_acc: 0.3697\n",
      "Epoch 41/100\n",
      "16047/16047 [==============================] - 15s 933us/step - loss: 1.1733 - acc: 0.6578 - val_loss: 2.3448 - val_acc: 0.3628\n",
      "Epoch 42/100\n",
      "16047/16047 [==============================] - 15s 930us/step - loss: 1.1518 - acc: 0.6636 - val_loss: 2.3483 - val_acc: 0.3685\n",
      "Epoch 43/100\n",
      "16047/16047 [==============================] - 15s 928us/step - loss: 1.1290 - acc: 0.6682 - val_loss: 2.3848 - val_acc: 0.3642\n",
      "Epoch 44/100\n",
      "16047/16047 [==============================] - 15s 930us/step - loss: 1.1117 - acc: 0.6758 - val_loss: 2.4002 - val_acc: 0.3652\n",
      "Epoch 45/100\n",
      "16047/16047 [==============================] - 15s 934us/step - loss: 1.0801 - acc: 0.6852 - val_loss: 2.4503 - val_acc: 0.3590\n",
      "Epoch 46/100\n",
      "16047/16047 [==============================] - 15s 932us/step - loss: 1.0549 - acc: 0.6903 - val_loss: 2.4546 - val_acc: 0.3573\n",
      "Epoch 47/100\n",
      "16047/16047 [==============================] - 15s 925us/step - loss: 1.0283 - acc: 0.7002 - val_loss: 2.4366 - val_acc: 0.3580\n",
      "Epoch 48/100\n",
      "16047/16047 [==============================] - 15s 933us/step - loss: 1.0023 - acc: 0.7090 - val_loss: 2.5017 - val_acc: 0.3503\n",
      "Epoch 49/100\n",
      "16047/16047 [==============================] - 15s 933us/step - loss: 0.9859 - acc: 0.7151 - val_loss: 2.5112 - val_acc: 0.3528\n",
      "Epoch 50/100\n",
      "16047/16047 [==============================] - 15s 940us/step - loss: 0.9645 - acc: 0.7194 - val_loss: 2.5329 - val_acc: 0.3570\n",
      "Epoch 51/100\n",
      "16047/16047 [==============================] - 16s 1000us/step - loss: 0.9380 - acc: 0.7268 - val_loss: 2.5270 - val_acc: 0.3563\n",
      "Epoch 52/100\n",
      "16047/16047 [==============================] - 15s 957us/step - loss: 0.9208 - acc: 0.7330 - val_loss: 2.5308 - val_acc: 0.3593\n",
      "Epoch 53/100\n",
      "16047/16047 [==============================] - 15s 946us/step - loss: 0.8907 - acc: 0.7423 - val_loss: 2.6024 - val_acc: 0.3473\n",
      "Epoch 54/100\n",
      "16047/16047 [==============================] - 15s 943us/step - loss: 0.8708 - acc: 0.7490 - val_loss: 2.6514 - val_acc: 0.3533\n",
      "Epoch 55/100\n",
      "16047/16047 [==============================] - 15s 949us/step - loss: 0.8546 - acc: 0.7540 - val_loss: 2.6377 - val_acc: 0.3498\n",
      "Epoch 56/100\n",
      "16047/16047 [==============================] - 15s 952us/step - loss: 0.8288 - acc: 0.7633 - val_loss: 2.6576 - val_acc: 0.3453\n",
      "Epoch 57/100\n",
      "16047/16047 [==============================] - 15s 947us/step - loss: 0.8092 - acc: 0.7713 - val_loss: 2.6952 - val_acc: 0.3408\n",
      "Epoch 58/100\n",
      "16047/16047 [==============================] - 15s 942us/step - loss: 0.7876 - acc: 0.7763 - val_loss: 2.7181 - val_acc: 0.3488\n"
     ]
    },
    {
     "name": "stdout",
     "output_type": "stream",
     "text": [
      "Epoch 59/100\n",
      "16047/16047 [==============================] - 15s 953us/step - loss: 0.7692 - acc: 0.7777 - val_loss: 2.7651 - val_acc: 0.3403\n",
      "Epoch 60/100\n",
      "16047/16047 [==============================] - 16s 987us/step - loss: 0.7533 - acc: 0.7868 - val_loss: 2.7724 - val_acc: 0.3458\n",
      "Epoch 61/100\n",
      "16047/16047 [==============================] - 15s 952us/step - loss: 0.7377 - acc: 0.7896 - val_loss: 2.7881 - val_acc: 0.3473\n",
      "Epoch 62/100\n",
      "16047/16047 [==============================] - 15s 938us/step - loss: 0.7157 - acc: 0.7967 - val_loss: 2.8758 - val_acc: 0.3411\n",
      "Epoch 63/100\n",
      "16047/16047 [==============================] - 15s 940us/step - loss: 0.6909 - acc: 0.8075 - val_loss: 2.8479 - val_acc: 0.3413\n",
      "Epoch 64/100\n",
      "16047/16047 [==============================] - 15s 935us/step - loss: 0.6754 - acc: 0.8108 - val_loss: 2.9086 - val_acc: 0.3416\n",
      "Epoch 65/100\n",
      "16047/16047 [==============================] - 15s 936us/step - loss: 0.6564 - acc: 0.8162 - val_loss: 2.9205 - val_acc: 0.3366\n",
      "Epoch 66/100\n",
      "16047/16047 [==============================] - 15s 938us/step - loss: 0.6414 - acc: 0.8200 - val_loss: 2.9381 - val_acc: 0.3396\n",
      "Epoch 67/100\n",
      "16047/16047 [==============================] - 15s 934us/step - loss: 0.6208 - acc: 0.8269 - val_loss: 2.9882 - val_acc: 0.3353\n",
      "Epoch 68/100\n",
      "16047/16047 [==============================] - 15s 932us/step - loss: 0.6071 - acc: 0.8319 - val_loss: 3.0207 - val_acc: 0.3353\n",
      "Epoch 69/100\n",
      "16047/16047 [==============================] - 15s 929us/step - loss: 0.5949 - acc: 0.8347 - val_loss: 3.0405 - val_acc: 0.3436\n",
      "Epoch 70/100\n",
      "16047/16047 [==============================] - 15s 931us/step - loss: 0.5775 - acc: 0.8426 - val_loss: 3.0202 - val_acc: 0.3356\n",
      "Epoch 71/100\n",
      "16047/16047 [==============================] - 15s 928us/step - loss: 0.5604 - acc: 0.8461 - val_loss: 3.0422 - val_acc: 0.3401\n",
      "Epoch 72/100\n",
      "16047/16047 [==============================] - 15s 928us/step - loss: 0.5426 - acc: 0.8521 - val_loss: 3.1310 - val_acc: 0.3363\n",
      "Epoch 73/100\n",
      "16047/16047 [==============================] - 15s 928us/step - loss: 0.5417 - acc: 0.8536 - val_loss: 3.1651 - val_acc: 0.3269\n",
      "Epoch 74/100\n",
      "16047/16047 [==============================] - 15s 964us/step - loss: 0.5155 - acc: 0.8615 - val_loss: 3.1605 - val_acc: 0.3356\n",
      "Epoch 75/100\n",
      "16047/16047 [==============================] - 15s 945us/step - loss: 0.4996 - acc: 0.8671 - val_loss: 3.1769 - val_acc: 0.3396\n",
      "Epoch 76/100\n",
      "16047/16047 [==============================] - 15s 946us/step - loss: 0.4825 - acc: 0.8724 - val_loss: 3.2108 - val_acc: 0.3301\n",
      "Epoch 77/100\n",
      "16047/16047 [==============================] - 15s 941us/step - loss: 0.4706 - acc: 0.8756 - val_loss: 3.2384 - val_acc: 0.3273\n",
      "Epoch 78/100\n",
      "16047/16047 [==============================] - 15s 945us/step - loss: 0.4669 - acc: 0.8770 - val_loss: 3.3252 - val_acc: 0.3333\n",
      "Epoch 79/100\n",
      "16047/16047 [==============================] - 15s 938us/step - loss: 0.4461 - acc: 0.8838 - val_loss: 3.3662 - val_acc: 0.3323\n",
      "Epoch 80/100\n",
      "16047/16047 [==============================] - 15s 956us/step - loss: 0.4366 - acc: 0.8891 - val_loss: 3.3786 - val_acc: 0.3216\n",
      "Epoch 81/100\n",
      "16047/16047 [==============================] - 16s 974us/step - loss: 0.4316 - acc: 0.8877 - val_loss: 3.3673 - val_acc: 0.3301\n",
      "Epoch 82/100\n",
      "16047/16047 [==============================] - 15s 943us/step - loss: 0.4043 - acc: 0.8998 - val_loss: 3.4422 - val_acc: 0.3308\n",
      "Epoch 83/100\n",
      "16047/16047 [==============================] - 15s 945us/step - loss: 0.3906 - acc: 0.9048 - val_loss: 3.4169 - val_acc: 0.3259\n",
      "Epoch 84/100\n",
      "16047/16047 [==============================] - 16s 971us/step - loss: 0.3802 - acc: 0.9068 - val_loss: 3.4844 - val_acc: 0.3201\n",
      "Epoch 85/100\n",
      "16047/16047 [==============================] - 15s 939us/step - loss: 0.3782 - acc: 0.9080 - val_loss: 3.4943 - val_acc: 0.3313\n",
      "Epoch 86/100\n",
      "16047/16047 [==============================] - 15s 942us/step - loss: 0.3624 - acc: 0.9118 - val_loss: 3.5585 - val_acc: 0.3221\n",
      "Epoch 87/100\n",
      "16047/16047 [==============================] - 15s 943us/step - loss: 0.3500 - acc: 0.9161 - val_loss: 3.5511 - val_acc: 0.3191\n",
      "Epoch 88/100\n",
      "16047/16047 [==============================] - 15s 940us/step - loss: 0.3474 - acc: 0.9148 - val_loss: 3.6286 - val_acc: 0.3256\n",
      "Epoch 89/100\n",
      "16047/16047 [==============================] - 15s 938us/step - loss: 0.3337 - acc: 0.9219 - val_loss: 3.6584 - val_acc: 0.3256\n",
      "Epoch 90/100\n",
      "16047/16047 [==============================] - 15s 944us/step - loss: 0.3366 - acc: 0.9195 - val_loss: 3.6616 - val_acc: 0.3201\n",
      "Epoch 91/100\n",
      "16047/16047 [==============================] - 16s 969us/step - loss: 0.3137 - acc: 0.9275 - val_loss: 3.6593 - val_acc: 0.3186\n",
      "Epoch 92/100\n",
      "16047/16047 [==============================] - 15s 941us/step - loss: 0.2936 - acc: 0.9369 - val_loss: 3.7427 - val_acc: 0.3216\n",
      "Epoch 93/100\n",
      "16047/16047 [==============================] - 15s 938us/step - loss: 0.2813 - acc: 0.9396 - val_loss: 3.7695 - val_acc: 0.3184\n",
      "Epoch 94/100\n",
      "16047/16047 [==============================] - 15s 937us/step - loss: 0.2850 - acc: 0.9357 - val_loss: 3.7958 - val_acc: 0.3201\n",
      "Epoch 95/100\n",
      "16047/16047 [==============================] - 15s 959us/step - loss: 0.2820 - acc: 0.9345 - val_loss: 3.7959 - val_acc: 0.3089\n",
      "Epoch 96/100\n",
      "16047/16047 [==============================] - 15s 954us/step - loss: 0.2778 - acc: 0.9387 - val_loss: 3.8754 - val_acc: 0.3206\n",
      "Epoch 97/100\n",
      "16047/16047 [==============================] - 15s 937us/step - loss: 0.2601 - acc: 0.9444 - val_loss: 3.9390 - val_acc: 0.3091\n",
      "Epoch 98/100\n",
      "16047/16047 [==============================] - 15s 952us/step - loss: 0.2583 - acc: 0.9439 - val_loss: 3.8826 - val_acc: 0.3141\n",
      "Epoch 99/100\n",
      "16047/16047 [==============================] - 16s 972us/step - loss: 0.2632 - acc: 0.9404 - val_loss: 3.9291 - val_acc: 0.3179\n",
      "Epoch 100/100\n",
      "16047/16047 [==============================] - 16s 998us/step - loss: 0.2392 - acc: 0.9502 - val_loss: 3.9512 - val_acc: 0.3234\n"
     ]
    }
   ],
   "source": [
    "# RNN Model\n",
    "epochs = 100\n",
    "vocab_size = len(data_set)\n",
    "input_dim = vocab_size\n",
    "output_dim = vocab_size\n",
    "hidden_dim = 100\n",
    "\n",
    "rnn_model = Sequential()\n",
    "rnn_model.add(LSTM(hidden_dim, input_shape=(None, vocab_size)))\n",
    "# rnn_model.add(SimpleRNN(hidden_dim, activation='tanh', return_sequences=True, input_shape=(None, vocab_size)))\n",
    "rnn_model.add(Dense(output_dim))\n",
    "rnn_model.add(Activation('softmax'))\n",
    "rnn_model.compile(optimizer='adam',\n",
    "                  loss='categorical_crossentropy',\n",
    "                  metrics=['accuracy'])\n",
    "rnn_model.summary()\n",
    "print('Training')\n",
    "modelhistory = History()\n",
    "history = rnn_model.fit(xtr, ytr[:, -1, :], batch_size=128, nb_epoch=epochs, validation_data=(xva, yva[:, -1, :]))"
   ]
  },
  {
   "cell_type": "code",
   "execution_count": 66,
   "metadata": {},
   "outputs": [
    {
     "name": "stdout",
     "output_type": "stream",
     "text": [
      "Generating with seed: \"<start>\n",
      "X:1\n",
      "T: La Montfar\"\n",
      "(900,)\n"
     ]
    }
   ],
   "source": [
    "def sample(preds, temperature):\n",
    "    # Helper function to sample an index from a probability array\n",
    "    preds = np.asarray(preds).astype('float64')\n",
    "    preds = np.log(preds) / temperature\n",
    "    exp_preds = np.exp(preds)\n",
    "    preds = exp_preds / np.sum(exp_preds)\n",
    "    probas = np.random.multinomial(1, preds, 1)\n",
    "    return np.argmax(probas)\n",
    "\n",
    "# Function to get rnn layer output\n",
    "get_rnn_layer_output = K.function([rnn_model.layers[0].input], [rnn_model.layers[0].output])\n",
    "prime_len = 25\n",
    "gen_len = 900\n",
    "start_index = 0\n",
    "d = 0\n",
    "rnn_activations = []\n",
    "# T is Temperature parameter for Softmax layer.\n",
    "for T in [1.0]:\n",
    "    d += 1\n",
    "    generated = ''\n",
    "    sentence = data_str[start_index: start_index + prime_len]\n",
    "    generated += sentence\n",
    "    print('Generating with seed: \"' + sentence + '\"')\n",
    "\n",
    "    for i in range(gen_len):\n",
    "        x = np.zeros((1, prime_len, len(data_set)))\n",
    "        for t, char in enumerate(sentence):\n",
    "            x[0, t, char_2_idx[char]] = 1.\n",
    "\n",
    "        preds = rnn_model.predict(x, verbose=0)[0]\n",
    "        layer_output = get_rnn_layer_output([x])[0]\n",
    "        rnn_activations.append(layer_output[0][-1])\n",
    "        next_index = sample(preds, T)\n",
    "        next_char = idx_2_char[next_index]\n",
    "\n",
    "        generated += next_char\n",
    "        sentence = sentence[1:] + next_char\n",
    "\n",
    "    f = open('pred_feature' + '_' + str(T) + '_' + str(d) + '.txt', 'w')\n",
    "    f.write(generated)\n",
    "    f.close()\n",
    "    rnn_activations = np.array(rnn_activations)\n",
    "    print(rnn_activations.shape)\n",
    "    np.savetxt('rnn_activations_pred', rnn_activations, delimiter=',')"
   ]
  },
  {
   "cell_type": "markdown",
   "metadata": {
    "collapsed": true
   },
   "source": [
    "My trial"
   ]
  },
  {
   "cell_type": "code",
   "execution_count": 5,
   "metadata": {},
   "outputs": [],
   "source": [
    "import importlib\n",
    "#import models"
   ]
  },
  {
   "cell_type": "code",
   "execution_count": 11,
   "metadata": {},
   "outputs": [],
   "source": [
    "import utils\n",
    "import models\n",
    "#importlib.reload(utils)"
   ]
  },
  {
   "cell_type": "code",
   "execution_count": 91,
   "metadata": {},
   "outputs": [
    {
     "data": {
      "text/plain": [
       "<module 'utils' from 'D:\\\\Resource\\\\Courses\\\\UCSD\\\\2nd_Quarter\\\\253\\\\pa4\\\\DeepMusic\\\\utils.py'>"
      ]
     },
     "execution_count": 91,
     "metadata": {},
     "output_type": "execute_result"
    }
   ],
   "source": [
    "importlib.reload(utils)"
   ]
  },
  {
   "cell_type": "code",
   "execution_count": 81,
   "metadata": {
    "collapsed": true
   },
   "outputs": [],
   "source": [
    "data = utils.get_data()\n",
    "char2idx_dict, idx2char_dict = utils.get_dicts(data)"
   ]
  },
  {
   "cell_type": "code",
   "execution_count": 103,
   "metadata": {
    "collapsed": true
   },
   "outputs": [],
   "source": [
    "lstm = models.Music(voc_size=len(char2idx_dict), hidden_size=100, num_layers=1)"
   ]
  },
  {
   "cell_type": "code",
   "execution_count": 105,
   "metadata": {},
   "outputs": [],
   "source": [
    "coach = utils.Trainer(lstm, char2idx_dict, idx2char_dict)"
   ]
  },
  {
   "cell_type": "code",
   "execution_count": 119,
   "metadata": {},
   "outputs": [
    {
     "name": "stdout",
     "output_type": "stream",
     "text": [
      "epoch 500, loss 1.717\n",
      "epoch 1000, loss 2.117\n",
      "epoch 1500, loss 1.836\n",
      "epoch 2000, loss 0.871\n",
      "epoch 2500, loss 1.566\n",
      "epoch 3000, loss 1.830\n"
     ]
    }
   ],
   "source": [
    "loss = coach.fit(data, max_iter=3000, log_freq=500)"
   ]
  },
  {
   "cell_type": "code",
   "execution_count": 120,
   "metadata": {},
   "outputs": [
    {
     "data": {
      "image/png": "[encoded data removed]",
      "text/plain": [
       "<matplotlib.figure.Figure at 0x1a0828e6eb8>"
      ]
     },
     "metadata": {},
     "output_type": "display_data"
    }
   ],
   "source": [
    "plt.plot([i for i in range(len(loss))], loss)\n",
    "plt.xlabel('# of epochs')\n",
    "plt.ylabel('loss')\n",
    "#plt.legend()\n",
    "plt.show()"
   ]
  },
  {
   "cell_type": "code",
   "execution_count": 122,
   "metadata": {},
   "outputs": [
    {
     "name": "stdout",
     "output_type": "stream",
     "text": [
      "<start>\n",
      "\n",
      "X:49\n",
      "T:France the sonde observation mailto:galouvielle@free.fr\n",
      "M:4/4\n",
      "L:1/8\n",
      "K:D\n",
      "D>F GB|d2-|\n",
      "L:1/8\n",
      "K:D\n",
      "AB AB GB B2 :|\n",
      "|:G/A/ Bc d2B | A2 G2 | c2c d2 | d2 de | d2 e2 | e3 c/B/A/ | G2 G/E/ | FE F2 | F>GA\n"
     ]
    }
   ],
   "source": [
    "tune = \"<start>\\n\" + coach.inference(size=200, temp=.6)\n",
    "print(tune)"
   ]
  },
  {
   "cell_type": "code",
   "execution_count": 59,
   "metadata": {},
   "outputs": [],
   "source": [
    "s = [c for c in '<start>']\n",
    "idx = coach.char2idx('<start>')\n",
    "hidden = lstm.init_hidden()"
   ]
  },
  {
   "cell_type": "code",
   "execution_count": 60,
   "metadata": {},
   "outputs": [
    {
     "data": {
      "text/plain": [
       "Variable containing:\n",
       " 40\n",
       " 60\n",
       " 82\n",
       " 14\n",
       "  8\n",
       " 82\n",
       " 67\n",
       "[torch.LongTensor of size 7]"
      ]
     },
     "execution_count": 60,
     "metadata": {},
     "output_type": "execute_result"
    }
   ],
   "source": [
    "idx"
   ]
  },
  {
   "cell_type": "code",
   "execution_count": 107,
   "metadata": {},
   "outputs": [
    {
     "data": {
      "text/plain": [
       "20058.8"
      ]
     },
     "execution_count": 107,
     "metadata": {},
     "output_type": "execute_result"
    }
   ],
   "source": [
    "len(data) / 25"
   ]
  },
  {
   "cell_type": "code",
   "execution_count": null,
   "metadata": {
    "collapsed": true
   },
   "outputs": [],
   "source": []
  }
 ],
 "metadata": {
  "kernelspec": {
   "display_name": "Python 3",
   "language": "python",
   "name": "python3"
  },
  "language_info": {
   "codemirror_mode": {
    "name": "ipython",
    "version": 3
   },
   "file_extension": ".py",
   "mimetype": "text/x-python",
   "name": "python",
   "nbconvert_exporter": "python",
   "pygments_lexer": "ipython3",
   "version": "3.6.1"
  }
 },
 "nbformat": 4,
 "nbformat_minor": 2
}
