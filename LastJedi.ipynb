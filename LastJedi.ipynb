{
 "cells": [
  {
   "cell_type": "code",
   "execution_count": 1,
   "metadata": {},
   "outputs": [],
   "source": [
    "import torch\n",
    "import torch.autograd as autograd\n",
    "import torch.nn as nn\n",
    "import torch.nn.functional as F\n",
    "import torch.optim as optim\n",
    "import os.path\n",
    "\n",
    "import numpy as np\n",
    "from matplotlib import pyplot as plt"
   ]
  },
  {
   "cell_type": "markdown",
   "metadata": {
    "collapsed": true
   },
   "source": [
    "My trial"
   ]
  },
  {
   "cell_type": "code",
   "execution_count": 2,
   "metadata": {},
   "outputs": [],
   "source": [
    "import importlib\n",
    "#import models"
   ]
  },
  {
   "cell_type": "code",
   "execution_count": 3,
   "metadata": {},
   "outputs": [],
   "source": [
    "import utils\n",
    "import models\n",
    "#importlib.reload(utils)"
   ]
  },
  {
   "cell_type": "code",
   "execution_count": 64,
   "metadata": {},
   "outputs": [
    {
     "data": {
      "text/plain": [
       "<module 'models' from '/datasets/home/50/350/cs253wgt/RNN/DeepMusic/models.py'>"
      ]
     },
     "execution_count": 64,
     "metadata": {},
     "output_type": "execute_result"
    }
   ],
   "source": [
    "importlib.reload(utils)\n",
    "importlib.reload(models)"
   ]
  },
  {
   "cell_type": "code",
   "execution_count": 71,
   "metadata": {},
   "outputs": [],
   "source": [
    "data = utils.get_data()\n",
    "train_data, valid_data = utils.split_data(data)\n",
    "char2idx_dict, idx2char_dict = utils.get_dicts(train_data)"
   ]
  },
  {
   "cell_type": "code",
   "execution_count": 72,
   "metadata": {},
   "outputs": [],
   "source": [
    "lstm = models.Music(voc_size=len(char2idx_dict), hidden_size=100, num_layers=1)\n",
    "coach = utils.Trainer(lstm, char2idx_dict, idx2char_dict)"
   ]
  },
  {
   "cell_type": "code",
   "execution_count": null,
   "metadata": {},
   "outputs": [
    {
     "name": "stdout",
     "output_type": "stream",
     "text": [
      "epoch 100, loss 1.672\n",
      "epoch 200, loss 2.129\n",
      "epoch 300, loss 2.286\n",
      "epoch 400, loss 2.471\n",
      "epoch 500, loss 2.117\n",
      "epoch 600, loss 0.863\n",
      "epoch 700, loss 2.249\n",
      "epoch 800, loss 1.884\n",
      "epoch 900, loss 3.826\n",
      "epoch 1000, loss 1.855\n",
      "epoch 1100, loss 2.499\n",
      "epoch 1200, loss 0.660\n",
      "epoch 1300, loss 2.785\n",
      "epoch 1400, loss 3.362\n",
      "epoch 1500, loss 2.740\n",
      "epoch 1600, loss 0.593\n",
      "epoch 1700, loss 1.547\n",
      "epoch 1800, loss 1.971\n",
      "epoch 1900, loss 0.466\n",
      "epoch 2000, loss 1.976\n",
      "epoch 2100, loss 1.927\n",
      "epoch 2200, loss 2.204\n",
      "epoch 2300, loss 1.741\n",
      "epoch 2400, loss 0.877\n",
      "epoch 2500, loss 1.817\n",
      "epoch 2600, loss 0.808\n",
      "epoch 2700, loss 1.556\n",
      "epoch 2800, loss 2.378\n",
      "epoch 2900, loss 2.632\n",
      "epoch 3000, loss 1.804\n",
      "epoch 3100, loss 1.541\n",
      "epoch 3200, loss 1.323\n"
     ]
    }
   ],
   "source": [
    "train_losses, valid_losses, valid_accuracies = coach.fit(train_data, valid_data, max_iter=30000, log_freq=100)"
   ]
  },
  {
   "cell_type": "code",
   "execution_count": null,
   "metadata": {},
   "outputs": [],
   "source": [
    "t = [i for i in range(len(train_losses))]\n",
    "plt.plot(t, train_losses, label='train loss')\n",
    "plt.plot(t, valid_losses, label='valid loss')\n",
    "plt.plot(t, valid_accuracies, label='valid accu')\n",
    "plt.xlabel('# of epochs')\n",
    "plt.ylabel('loss/accu')\n",
    "plt.legend()\n",
    "plt.show()"
   ]
  },
  {
   "cell_type": "code",
   "execution_count": null,
   "metadata": {},
   "outputs": [],
   "source": [
    "torch.save(model.state_dict(), 'lstm.pkl')"
   ]
  },
  {
   "cell_type": "code",
   "execution_count": 74,
   "metadata": {
    "scrolled": true
   },
   "outputs": [
    {
     "name": "stdout",
     "output_type": "stream",
     "text": [
      "<start>\n",
      "\n",
      "X:10\n",
      "T:Caroude\n",
      "Z:id:hn-jig-18\n",
      "T:Sarle farsire Cin pe-ree tou: Thele d? par Min-hip-jil Bour te marig? por And O'sart>\n",
      "X:420\n",
      "T:Wart>\n",
      "X:14\n",
      "T:Trovnee\n",
      "R:jig? gation polka\n",
      "Z:id:hn-porg?\n",
      "Z:id:hn-jin-jig\n",
      "M:\n"
     ]
    }
   ],
   "source": [
    "tune = \"<start>\\n\" + coach.inference(size=200, temp=.6)\n",
    "print(tune)"
   ]
  },
  {
   "cell_type": "markdown",
   "metadata": {
    "collapsed": true
   },
   "source": [
    "Some test"
   ]
  },
  {
   "cell_type": "code",
   "execution_count": 47,
   "metadata": {},
   "outputs": [
    {
     "data": {
      "text/plain": [
       "25"
      ]
     },
     "execution_count": 47,
     "metadata": {},
     "output_type": "execute_result"
    }
   ],
   "source": []
  },
  {
   "cell_type": "code",
   "execution_count": null,
   "metadata": {},
   "outputs": [],
   "source": []
  }
 ],
 "metadata": {
  "kernelspec": {
   "display_name": "Python 3",
   "language": "python",
   "name": "python3"
  },
  "language_info": {
   "codemirror_mode": {
    "name": "ipython",
    "version": 3
   },
   "file_extension": ".py",
   "mimetype": "text/x-python",
   "name": "python",
   "nbconvert_exporter": "python",
   "pygments_lexer": "ipython3",
   "version": "3.5.4"
  }
 },
 "nbformat": 4,
 "nbformat_minor": 2
}
