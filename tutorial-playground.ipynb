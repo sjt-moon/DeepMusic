{
 "cells": [
  {
   "cell_type": "code",
   "execution_count": 1,
   "metadata": {},
   "outputs": [],
   "source": [
    "import torch\n",
    "import torch.autograd as autograd\n",
    "import torch.nn as nn\n",
    "import torch.nn.functional as F\n",
    "import torch.optim as optim"
   ]
  },
  {
   "cell_type": "code",
   "execution_count": 10,
   "metadata": {},
   "outputs": [
    {
     "name": "stdout",
     "output_type": "stream",
     "text": [
      "torch.Size([5, 1, 95])\n",
      "Variable containing:\n",
      "(0 ,.,.) = \n",
      "\n",
      "Columns 0 to 8 \n",
      "   0.2324 -0.1303 -0.0540 -0.1719  0.0152 -0.1618 -0.0108  0.0072 -0.2877\n",
      "\n",
      "Columns 9 to 9 \n",
      "   0.0052\n",
      "\n",
      "(1 ,.,.) = \n",
      "\n",
      "Columns 0 to 8 \n",
      "   0.1596 -0.1720 -0.3462 -0.4011  0.2559 -0.2006 -0.0117 -0.0165  0.1443\n",
      "\n",
      "Columns 9 to 9 \n",
      "   0.0334\n",
      "\n",
      "(2 ,.,.) = \n",
      "\n",
      "Columns 0 to 8 \n",
      "  -0.0486 -0.4387 -0.3819 -0.2634  0.5357  0.4123 -0.4677 -0.0447  0.1367\n",
      "\n",
      "Columns 9 to 9 \n",
      "  -0.1607\n",
      "\n",
      "(3 ,.,.) = \n",
      "\n",
      "Columns 0 to 8 \n",
      "  -0.3942 -0.0509 -0.6908  0.4005  0.0369  0.2075 -0.1711 -0.0271  0.4219\n",
      "\n",
      "Columns 9 to 9 \n",
      "  -0.5744\n",
      "\n",
      "(4 ,.,.) = \n",
      "\n",
      "Columns 0 to 8 \n",
      "  -0.0158 -0.0397 -0.1364  0.0756 -0.0848  0.3853 -0.1575 -0.0501 -0.0198\n",
      "\n",
      "Columns 9 to 9 \n",
      "   0.1620\n",
      "[torch.FloatTensor of size 5x1x10]\n",
      "\n"
     ]
    }
   ],
   "source": [
    "lstm = nn.LSTM(95, 10)  # Input dim is 95, output dim is 10\n",
    "inputs = [autograd.Variable(torch.randn((1, 95)))\n",
    "          for _ in range(5)]  # make a sequence of length 5\n",
    "inputs = torch.cat(inputs).view(len(inputs), 1, -1)\n",
    "print inputs.size()\n",
    "hidden = (autograd.Variable(torch.randn(1, 1, 10)),\n",
    "          autograd.Variable(torch.randn((1, 1, 10))))\n",
    "out, hidden = lstm(inputs, hidden)\n",
    "print(out)"
   ]
  },
  {
   "cell_type": "code",
   "execution_count": 5,
   "metadata": {},
   "outputs": [
    {
     "data": {
      "text/plain": [
       "torch.Size([5, 1, 95])"
      ]
     },
     "execution_count": 5,
     "metadata": {},
     "output_type": "execute_result"
    }
   ],
   "source": [
    "inputs.size()"
   ]
  }
 ],
 "metadata": {
  "kernelspec": {
   "display_name": "Python 2",
   "language": "python",
   "name": "python2"
  },
  "language_info": {
   "codemirror_mode": {
    "name": "ipython",
    "version": 2
   },
   "file_extension": ".py",
   "mimetype": "text/x-python",
   "name": "python",
   "nbconvert_exporter": "python",
   "pygments_lexer": "ipython2",
   "version": "2.7.14"
  }
 },
 "nbformat": 4,
 "nbformat_minor": 2
}
